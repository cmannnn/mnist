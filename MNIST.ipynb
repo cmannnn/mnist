{
  "nbformat": 4,
  "nbformat_minor": 0,
  "metadata": {
    "colab": {
      "name": "MNIST.ipynb",
      "provenance": [],
      "authorship_tag": "ABX9TyMos09u/Ld/A/guCvjafJG8",
      "include_colab_link": true
    },
    "kernelspec": {
      "name": "python3",
      "display_name": "Python 3"
    }
  },
  "cells": [
    {
      "cell_type": "markdown",
      "metadata": {
        "id": "view-in-github",
        "colab_type": "text"
      },
      "source": [
        "<a href=\"https://colab.research.google.com/github/cmannnn/mnist/blob/main/MNIST.ipynb\" target=\"_parent\"><img src=\"https://colab.research.google.com/assets/colab-badge.svg\" alt=\"Open In Colab\"/></a>"
      ]
    },
    {
      "cell_type": "markdown",
      "metadata": {
        "id": "9T1qE98VlGZs"
      },
      "source": [
        "# MNIST classification"
      ]
    },
    {
      "cell_type": "code",
      "metadata": {
        "id": "qvsZwNsVa5Eb"
      },
      "source": [
        "#imports\n",
        "import matplotlib as mpl\n",
        "import matplotlib.pyplot as plt\n",
        "\n",
        "import pandas as pd\n",
        "\n",
        "import numpy as np\n",
        "\n",
        "from sklearn.linear_model import SGDClassifier\n",
        "\n",
        "from sklearn.ensemble import RandomForestClassifier\n",
        "\n",
        "from sklearn.model_selection import cross_val_score\n",
        "from sklearn.model_selection import  cross_val_predict\n",
        "\n",
        "from sklearn.metrics import confusion_matrix\n",
        "from sklearn.metrics import precision_score, recall_score\n",
        "from sklearn.metrics import f1_score\n",
        "from sklearn.metrics import precision_recall_curve\n",
        "from sklearn.metrics import roc_curve\n",
        "from sklearn.metrics import roc_auc_score"
      ],
      "execution_count": 40,
      "outputs": []
    },
    {
      "cell_type": "markdown",
      "metadata": {
        "id": "Wx7jJaSBmXa8"
      },
      "source": [
        "Reading data"
      ]
    },
    {
      "cell_type": "code",
      "metadata": {
        "id": "5QmZn8K0bu8u"
      },
      "source": [
        "# reading in MNIST datasets\n",
        "mnist_train = pd.read_csv('sample_data/mnist_train_small.csv')\n",
        "mnist_test = pd.read_csv('sample_data/mnist_test.csv')"
      ],
      "execution_count": 41,
      "outputs": []
    },
    {
      "cell_type": "code",
      "metadata": {
        "id": "obCSMWtBb8pH",
        "colab": {
          "base_uri": "https://localhost:8080/"
        },
        "outputId": "6ab56d41-a9e2-412a-f76c-e9e8a22ebed0"
      },
      "source": [
        "# checking training data shape\n",
        "mnist_train.shape"
      ],
      "execution_count": 42,
      "outputs": [
        {
          "output_type": "execute_result",
          "data": {
            "text/plain": [
              "(19999, 785)"
            ]
          },
          "metadata": {
            "tags": []
          },
          "execution_count": 42
        }
      ]
    },
    {
      "cell_type": "code",
      "metadata": {
        "colab": {
          "base_uri": "https://localhost:8080/"
        },
        "id": "irdpsSUNcf-9",
        "outputId": "8bb87037-3552-416b-b76d-bcc8725d4e00"
      },
      "source": [
        "# checking testing data shape\n",
        "mnist_test.shape"
      ],
      "execution_count": 43,
      "outputs": [
        {
          "output_type": "execute_result",
          "data": {
            "text/plain": [
              "(9999, 785)"
            ]
          },
          "metadata": {
            "tags": []
          },
          "execution_count": 43
        }
      ]
    },
    {
      "cell_type": "markdown",
      "metadata": {
        "id": "TCe8cED7mcYj"
      },
      "source": [
        "# Splitting train data"
      ]
    },
    {
      "cell_type": "code",
      "metadata": {
        "id": "wk-QxI4vjGr5"
      },
      "source": [
        "# splitting train data into features and targets\n",
        "mnist_train_y = mnist_train['6']\n",
        "mnist_train_X = mnist_train.drop(['6'], axis=1)"
      ],
      "execution_count": 44,
      "outputs": []
    },
    {
      "cell_type": "code",
      "metadata": {
        "colab": {
          "base_uri": "https://localhost:8080/"
        },
        "id": "QtDOCeV9fpFp",
        "outputId": "0d75b55f-5341-45ff-a684-793cfa4c29bf"
      },
      "source": [
        "# checking train y shape\n",
        "mnist_train_y.shape"
      ],
      "execution_count": 45,
      "outputs": [
        {
          "output_type": "execute_result",
          "data": {
            "text/plain": [
              "(19999,)"
            ]
          },
          "metadata": {
            "tags": []
          },
          "execution_count": 45
        }
      ]
    },
    {
      "cell_type": "code",
      "metadata": {
        "colab": {
          "base_uri": "https://localhost:8080/"
        },
        "id": "1Dve-e7VkXlZ",
        "outputId": "ea7ea6bb-8fba-41b6-ca1c-4787ad68ba2e"
      },
      "source": [
        "# checking train X shape\n",
        "mnist_train_X.shape"
      ],
      "execution_count": 46,
      "outputs": [
        {
          "output_type": "execute_result",
          "data": {
            "text/plain": [
              "(19999, 784)"
            ]
          },
          "metadata": {
            "tags": []
          },
          "execution_count": 46
        }
      ]
    },
    {
      "cell_type": "markdown",
      "metadata": {
        "id": "d40jJYPbmk5x"
      },
      "source": [
        "# Splitting test data"
      ]
    },
    {
      "cell_type": "code",
      "metadata": {
        "id": "Wi5EjKR8l29f"
      },
      "source": [
        "# splitting test data into features and targets\n",
        "mnist_test_y = mnist_test['7']\n",
        "mnist_test_X = mnist_test.drop(['7'], axis=1)"
      ],
      "execution_count": 47,
      "outputs": []
    },
    {
      "cell_type": "code",
      "metadata": {
        "colab": {
          "base_uri": "https://localhost:8080/"
        },
        "id": "etpk887ymsMx",
        "outputId": "09e74f2f-e08e-4a99-d9d3-308b76c45d2c"
      },
      "source": [
        "# checking test y shape\n",
        "mnist_test_y.shape"
      ],
      "execution_count": 48,
      "outputs": [
        {
          "output_type": "execute_result",
          "data": {
            "text/plain": [
              "(9999,)"
            ]
          },
          "metadata": {
            "tags": []
          },
          "execution_count": 48
        }
      ]
    },
    {
      "cell_type": "code",
      "metadata": {
        "colab": {
          "base_uri": "https://localhost:8080/"
        },
        "id": "hXHblQp3msZm",
        "outputId": "9bb3b4af-a59a-4160-df75-7a0c6df9a442"
      },
      "source": [
        "# checking test X shape\n",
        "mnist_test_X.shape"
      ],
      "execution_count": 49,
      "outputs": [
        {
          "output_type": "execute_result",
          "data": {
            "text/plain": [
              "(9999, 784)"
            ]
          },
          "metadata": {
            "tags": []
          },
          "execution_count": 49
        }
      ]
    },
    {
      "cell_type": "code",
      "metadata": {
        "colab": {
          "base_uri": "https://localhost:8080/",
          "height": 248
        },
        "id": "0ewdzzgfe5h1",
        "outputId": "c9df30c6-5442-4871-bb75-9fee23a89a81"
      },
      "source": [
        "# displaying the image\n",
        "some_digit = np.array(mnist_train_X[:1])\n",
        "some_digit_image = some_digit.reshape(28, 28)\n",
        "\n",
        "plt.imshow(some_digit_image, cmap=mpl.cm.binary, interpolation='nearest')\n",
        "plt.axis('off')\n",
        "plt.show()"
      ],
      "execution_count": 50,
      "outputs": [
        {
          "output_type": "display_data",
          "data": {
            "image/png": "[encoded data removed]",
            "text/plain": [
              "<Figure size 432x288 with 1 Axes>"
            ]
          },
          "metadata": {
            "tags": [],
            "needs_background": "light"
          }
        }
      ]
    },
    {
      "cell_type": "code",
      "metadata": {
        "colab": {
          "base_uri": "https://localhost:8080/"
        },
        "id": "3dkJBAg3eWmP",
        "outputId": "0952911a-719f-4d29-b57f-b3e72e0039e2"
      },
      "source": [
        "# checking target value\n",
        "mnist_train_y[0]"
      ],
      "execution_count": 51,
      "outputs": [
        {
          "output_type": "execute_result",
          "data": {
            "text/plain": [
              "5"
            ]
          },
          "metadata": {
            "tags": []
          },
          "execution_count": 51
        }
      ]
    },
    {
      "cell_type": "markdown",
      "metadata": {
        "id": "xTq11XrSMvi1"
      },
      "source": [
        "# Training a binary classifier"
      ]
    },
    {
      "cell_type": "code",
      "metadata": {
        "id": "NqGUDMiGNclb"
      },
      "source": [
        "# creating binary data set for a '#5 ditector' as binary classifer test\n",
        "mnist_y_train_5 = (mnist_train_y == 5)\n",
        "mnist_y_test_5 = (mnist_test_y ==5)"
      ],
      "execution_count": 52,
      "outputs": []
    },
    {
      "cell_type": "code",
      "metadata": {
        "colab": {
          "base_uri": "https://localhost:8080/"
        },
        "id": "PVZSS08PQGsM",
        "outputId": "2d3aef1e-63ff-449d-fae0-c82aba723d28"
      },
      "source": [
        "mnist_y_train_5"
      ],
      "execution_count": 53,
      "outputs": [
        {
          "output_type": "execute_result",
          "data": {
            "text/plain": [
              "0         True\n",
              "1        False\n",
              "2        False\n",
              "3         True\n",
              "4        False\n",
              "         ...  \n",
              "19994    False\n",
              "19995    False\n",
              "19996    False\n",
              "19997    False\n",
              "19998     True\n",
              "Name: 6, Length: 19999, dtype: bool"
            ]
          },
          "metadata": {
            "tags": []
          },
          "execution_count": 53
        }
      ]
    },
    {
      "cell_type": "code",
      "metadata": {
        "colab": {
          "base_uri": "https://localhost:8080/"
        },
        "id": "mj9Ixed9QLrO",
        "outputId": "ccdcf6a0-904f-4d15-d659-15a81c4c70a3"
      },
      "source": [
        "mnist_y_test_5"
      ],
      "execution_count": 54,
      "outputs": [
        {
          "output_type": "execute_result",
          "data": {
            "text/plain": [
              "0       False\n",
              "1       False\n",
              "2       False\n",
              "3       False\n",
              "4       False\n",
              "        ...  \n",
              "9994    False\n",
              "9995    False\n",
              "9996    False\n",
              "9997     True\n",
              "9998    False\n",
              "Name: 7, Length: 9999, dtype: bool"
            ]
          },
          "metadata": {
            "tags": []
          },
          "execution_count": 54
        }
      ]
    },
    {
      "cell_type": "code",
      "metadata": {
        "colab": {
          "base_uri": "https://localhost:8080/"
        },
        "id": "sNW-57xlMzmy",
        "outputId": "aaf20641-74e6-4d8c-8101-aa7eb0249a7a"
      },
      "source": [
        "# Stochastic Gradient Discent\n",
        "sgd_clf = SGDClassifier(random_state=42)\n",
        "sgd_clf.fit(mnist_train_X, mnist_y_train_5)"
      ],
      "execution_count": 55,
      "outputs": [
        {
          "output_type": "execute_result",
          "data": {
            "text/plain": [
              "SGDClassifier(alpha=0.0001, average=False, class_weight=None,\n",
              "              early_stopping=False, epsilon=0.1, eta0=0.0, fit_intercept=True,\n",
              "              l1_ratio=0.15, learning_rate='optimal', loss='hinge',\n",
              "              max_iter=1000, n_iter_no_change=5, n_jobs=None, penalty='l2',\n",
              "              power_t=0.5, random_state=42, shuffle=True, tol=0.001,\n",
              "              validation_fraction=0.1, verbose=0, warm_start=False)"
            ]
          },
          "metadata": {
            "tags": []
          },
          "execution_count": 55
        }
      ]
    },
    {
      "cell_type": "code",
      "metadata": {
        "colab": {
          "base_uri": "https://localhost:8080/"
        },
        "id": "Mlc5IBZ9ONJn",
        "outputId": "755432af-c651-48a3-a39a-7578fa644638"
      },
      "source": [
        "# predicting if data == 5\n",
        "sgd_clf.predict(some_digit)"
      ],
      "execution_count": 56,
      "outputs": [
        {
          "output_type": "execute_result",
          "data": {
            "text/plain": [
              "array([ True])"
            ]
          },
          "metadata": {
            "tags": []
          },
          "execution_count": 56
        }
      ]
    },
    {
      "cell_type": "markdown",
      "metadata": {
        "id": "geompx7YRnzA"
      },
      "source": [
        "Measuring score with cross-validation folds"
      ]
    },
    {
      "cell_type": "code",
      "metadata": {
        "colab": {
          "base_uri": "https://localhost:8080/"
        },
        "id": "SS5ZN8X5OlNq",
        "outputId": "1d7a5319-c56c-4f3c-ef17-2248f1c7cffa"
      },
      "source": [
        "# initiating cross folds\n",
        "cross_val_score(sgd_clf, mnist_train_X, mnist_y_train_5, cv=3, scoring='accuracy')"
      ],
      "execution_count": 57,
      "outputs": [
        {
          "output_type": "execute_result",
          "data": {
            "text/plain": [
              "array([0.96130193, 0.95829583, 0.96144614])"
            ]
          },
          "metadata": {
            "tags": []
          },
          "execution_count": 57
        }
      ]
    },
    {
      "cell_type": "markdown",
      "metadata": {
        "id": "Fnh9pP2wU6_u"
      },
      "source": [
        "Measuring score with confusion matrix"
      ]
    },
    {
      "cell_type": "code",
      "metadata": {
        "id": "pMcQpH2ASJax"
      },
      "source": [
        "# initiating cross val predictor\n",
        "y_train_pred = cross_val_predict(sgd_clf, mnist_train_X, mnist_y_train_5, cv=3) "
      ],
      "execution_count": 58,
      "outputs": []
    },
    {
      "cell_type": "code",
      "metadata": {
        "colab": {
          "base_uri": "https://localhost:8080/"
        },
        "id": "p6KZP2y5V-uT",
        "outputId": "8f6b69dd-fbff-43c1-fdec-4bd2b50f69a1"
      },
      "source": [
        "# measuring confusion matrix\n",
        "confusion_matrix(mnist_y_train_5, y_train_pred)"
      ],
      "execution_count": 59,
      "outputs": [
        {
          "output_type": "execute_result",
          "data": {
            "text/plain": [
              "array([[17952,   286],\n",
              "       [  507,  1254]])"
            ]
          },
          "metadata": {
            "tags": []
          },
          "execution_count": 59
        }
      ]
    },
    {
      "cell_type": "markdown",
      "metadata": {
        "id": "x2SbGAofZdiL"
      },
      "source": [
        "Measuring precision and recall"
      ]
    },
    {
      "cell_type": "code",
      "metadata": {
        "colab": {
          "base_uri": "https://localhost:8080/"
        },
        "id": "DJT6rh3cXENl",
        "outputId": "f9e6e6bd-0cea-4c25-b3f1-28c65cc269da"
      },
      "source": [
        "# precision\n",
        "precision_score(mnist_y_train_5, y_train_pred)"
      ],
      "execution_count": 60,
      "outputs": [
        {
          "output_type": "execute_result",
          "data": {
            "text/plain": [
              "0.8142857142857143"
            ]
          },
          "metadata": {
            "tags": []
          },
          "execution_count": 60
        }
      ]
    },
    {
      "cell_type": "code",
      "metadata": {
        "colab": {
          "base_uri": "https://localhost:8080/"
        },
        "id": "LAENBRGwaKk-",
        "outputId": "e4a093bb-feb5-43cf-c020-8693734bc280"
      },
      "source": [
        "# recall\n",
        "recall_score(mnist_y_train_5, y_train_pred)"
      ],
      "execution_count": 61,
      "outputs": [
        {
          "output_type": "execute_result",
          "data": {
            "text/plain": [
              "0.7120954003407155"
            ]
          },
          "metadata": {
            "tags": []
          },
          "execution_count": 61
        }
      ]
    },
    {
      "cell_type": "markdown",
      "metadata": {
        "id": "-uj740AIa378"
      },
      "source": [
        "Measuring f1 score"
      ]
    },
    {
      "cell_type": "code",
      "metadata": {
        "colab": {
          "base_uri": "https://localhost:8080/"
        },
        "id": "2VYacX2IaVQW",
        "outputId": "9c7b2fb7-2021-44f9-81c9-12ef7c253502"
      },
      "source": [
        "# measuring f1\n",
        "f1_score(mnist_y_train_5, y_train_pred)"
      ],
      "execution_count": 62,
      "outputs": [
        {
          "output_type": "execute_result",
          "data": {
            "text/plain": [
              "0.7597697667373522"
            ]
          },
          "metadata": {
            "tags": []
          },
          "execution_count": 62
        }
      ]
    },
    {
      "cell_type": "markdown",
      "metadata": {
        "id": "x3UWTV9xdbfa"
      },
      "source": [
        "Determining precision recall tradeoff"
      ]
    },
    {
      "cell_type": "code",
      "metadata": {
        "id": "WefOi5pLbDgo"
      },
      "source": [
        "# using cross_val_predict part 2\n",
        "y_scores = cross_val_predict(sgd_clf, mnist_train_X, mnist_y_train_5, cv=3, method='decision_function')"
      ],
      "execution_count": 63,
      "outputs": []
    },
    {
      "cell_type": "code",
      "metadata": {
        "id": "38dycj0IeKox"
      },
      "source": [
        "# creating precision recall curve\n",
        "precisions, recalls, thresholds = precision_recall_curve(mnist_y_train_5, y_scores)"
      ],
      "execution_count": 64,
      "outputs": []
    },
    {
      "cell_type": "code",
      "metadata": {
        "id": "3W4h5bv6vIKM"
      },
      "source": [
        "# calculating 90% precision and 90% accuracy\n",
        "recall_90_precision= recalls[np.argmax(precisions >= 0.90)]\n",
        "threshold_90_precision = thresholds[np.argmax(precisions >= 0.90)]"
      ],
      "execution_count": 65,
      "outputs": []
    },
    {
      "cell_type": "code",
      "metadata": {
        "colab": {
          "base_uri": "https://localhost:8080/",
          "height": 513
        },
        "id": "YsOt6pzBfLOV",
        "outputId": "deabbb85-2307-40f3-a277-7dde9299aee9"
      },
      "source": [
        "# plotting 90% precision 90% recall ROC graph\n",
        "fig, ax = plt.subplots(figsize=[14,8])\n",
        "\n",
        "plt.plot(thresholds, precisions[:-1], 'b--', label='Precision')\n",
        "plt.plot(thresholds, recalls[:-1], 'g-', label='Recall')\n",
        "\n",
        "plt.plot([threshold_90_precision, threshold_90_precision], [0., 0.9], 'r:')\n",
        "plt.plot([-5000, threshold_90_precision], [0.9, 0.9], 'r:')\n",
        "plt.plot([-5000, threshold_90_precision], [recall_90_precision, recall_90_precision], 'r:')\n",
        "plt.plot([threshold_90_precision], [0.9], 'ro')\n",
        "plt.plot([threshold_90_precision], [recall_90_precision], 'ro')\n",
        "\n",
        "plt.grid(True)\n",
        "plt.xlabel('Threshold')\n",
        "plt.title('Precision vs. recall')\n",
        "plt.legend()\n",
        "plt.show()"
      ],
      "execution_count": 66,
      "outputs": [
        {
          "output_type": "display_data",
          "data": {
            "image/png": "[encoded data removed]",
            "text/plain": [
              "<Figure size 1008x576 with 1 Axes>"
            ]
          },
          "metadata": {
            "tags": [],
            "needs_background": "light"
          }
        }
      ]
    },
    {
      "cell_type": "code",
      "metadata": {
        "id": "vo-diIfHfZai"
      },
      "source": [
        "# aiming for 90% precision with argmax\n",
        "threshold_90_precision = thresholds[np.argmax(precisions >= 0.90)]"
      ],
      "execution_count": 67,
      "outputs": []
    },
    {
      "cell_type": "code",
      "metadata": {
        "id": "DRP_3kaEgVnK"
      },
      "source": [
        "# checking predictions with 90& precision\n",
        "y_train_pred_90 = (y_scores >= threshold_90_precision)"
      ],
      "execution_count": 68,
      "outputs": []
    },
    {
      "cell_type": "code",
      "metadata": {
        "colab": {
          "base_uri": "https://localhost:8080/"
        },
        "id": "rQG-eEaahWDb",
        "outputId": "324b07b6-2805-4028-b761-9ace8d4d8d00"
      },
      "source": [
        "# checking predictions precision score\n",
        "precision_score(mnist_y_train_5, y_train_pred_90)"
      ],
      "execution_count": 69,
      "outputs": [
        {
          "output_type": "execute_result",
          "data": {
            "text/plain": [
              "0.9005658852061439"
            ]
          },
          "metadata": {
            "tags": []
          },
          "execution_count": 69
        }
      ]
    },
    {
      "cell_type": "code",
      "metadata": {
        "colab": {
          "base_uri": "https://localhost:8080/"
        },
        "id": "1FQ3zVEbhgK-",
        "outputId": "e374d892-4767-4c4f-8728-5e51c61c3e6b"
      },
      "source": [
        "# checing precitions recall score\n",
        "recall_score(mnist_y_train_5, y_train_pred_90)"
      ],
      "execution_count": 70,
      "outputs": [
        {
          "output_type": "execute_result",
          "data": {
            "text/plain": [
              "0.6325951164111301"
            ]
          },
          "metadata": {
            "tags": []
          },
          "execution_count": 70
        }
      ]
    },
    {
      "cell_type": "markdown",
      "metadata": {
        "id": "YSXnfB24kRqh"
      },
      "source": [
        "ROC curve"
      ]
    },
    {
      "cell_type": "code",
      "metadata": {
        "id": "7qkdjhs4iA7U"
      },
      "source": [
        "# calculating false positive, true positive, and thresholds\n",
        "fpr, tpr, thresholds = roc_curve(mnist_y_train_5, y_scores)"
      ],
      "execution_count": 71,
      "outputs": []
    },
    {
      "cell_type": "code",
      "metadata": {
        "colab": {
          "base_uri": "https://localhost:8080/",
          "height": 513
        },
        "id": "DgTS0st_koXv",
        "outputId": "8d18509b-7c30-42ca-87a7-12b9831a4e8a"
      },
      "source": [
        "# plotting the ROC curve\n",
        "fig, ax = plt.subplots(figsize=[12, 8])\n",
        "plt.plot(fpr, tpr, linewidth=2, label=None)\n",
        "plt.plot([0, 1], [0, 1], 'k--')\n",
        "\n",
        "plt.grid()\n",
        "plt.xlabel('False positive rate')\n",
        "plt.ylabel('True positive rate')\n",
        "plt.title('ROC curve')\n",
        "plt.show()"
      ],
      "execution_count": 72,
      "outputs": [
        {
          "output_type": "display_data",
          "data": {
            "image/png": "[encoded data removed]",
            "text/plain": [
              "<Figure size 864x576 with 1 Axes>"
            ]
          },
          "metadata": {
            "tags": [],
            "needs_background": "light"
          }
        }
      ]
    },
    {
      "cell_type": "code",
      "metadata": {
        "colab": {
          "base_uri": "https://localhost:8080/"
        },
        "id": "KhtLCjzUkzWX",
        "outputId": "d3ff8bb5-02f7-4f3d-fdcb-84562d8f3f18"
      },
      "source": [
        "# calculating roc auc score\n",
        "roc_auc_score(mnist_y_train_5, y_scores)"
      ],
      "execution_count": 73,
      "outputs": [
        {
          "output_type": "execute_result",
          "data": {
            "text/plain": [
              "0.9498462782370448"
            ]
          },
          "metadata": {
            "tags": []
          },
          "execution_count": 73
        }
      ]
    },
    {
      "cell_type": "markdown",
      "metadata": {
        "id": "mD7va-2_oJ9w"
      },
      "source": [
        "Comparing/contrasting SGDCLassifier and RandomForestClassifier's ROC and ROC AUC curve"
      ]
    },
    {
      "cell_type": "code",
      "metadata": {
        "id": "lcgTTixmnRfJ"
      },
      "source": [
        "# initiating RandomForest \n",
        "forest_clf = RandomForestClassifier(random_state=42)\n",
        "y_probas_forest = cross_val_predict(forest_clf, mnist_train_X, mnist_y_train_5, cv=3, method='predict_proba')"
      ],
      "execution_count": 74,
      "outputs": []
    },
    {
      "cell_type": "code",
      "metadata": {
        "id": "jANVTRoOpRBb"
      },
      "source": [
        "# getting random forest scores instead of probabilities\n",
        "y_scores_forest = y_probas_forest[:, 1]"
      ],
      "execution_count": 75,
      "outputs": []
    },
    {
      "cell_type": "code",
      "metadata": {
        "id": "gq_Y6xGtr6XF"
      },
      "source": [
        "# setting up the ROC curve\n",
        "fpr_forest, tpr_forest, thresholds_forest = roc_curve(mnist_y_train_5, y_scores_forest)"
      ],
      "execution_count": 76,
      "outputs": []
    },
    {
      "cell_type": "code",
      "metadata": {
        "colab": {
          "base_uri": "https://localhost:8080/",
          "height": 499
        },
        "id": "PMQcLdKksWBM",
        "outputId": "e74b6459-8b88-4a73-f78b-87bd86348ff0"
      },
      "source": [
        "# plotting random forest ROC curve\n",
        "ax, fig = plt.subplots(figsize=[12, 8])\n",
        "plt.plot(fpr, tpr, 'b', label='SGD')\n",
        "plt.plot([0, 1], [0, 1], 'k--')\n",
        "\n",
        "plt.title('Random forest ROC')\n",
        "plt.grid(True)\n",
        "plt.legend(loc='lower right', fontsize=16)\n",
        "plt.show()"
      ],
      "execution_count": 81,
      "outputs": [
        {
          "output_type": "display_data",
          "data": {
            "image/png": "[encoded data removed]",
            "text/plain": [
              "<Figure size 864x576 with 1 Axes>"
            ]
          },
          "metadata": {
            "tags": [],
            "needs_background": "light"
          }
        }
      ]
    },
    {
      "cell_type": "code",
      "metadata": {
        "id": "CBq-5qtLsm0S"
      },
      "source": [
        ""
      ],
      "execution_count": 77,
      "outputs": []
    }
  ]
}