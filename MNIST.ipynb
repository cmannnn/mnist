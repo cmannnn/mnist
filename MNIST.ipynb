{
  "nbformat": 4,
  "nbformat_minor": 0,
  "metadata": {
    "colab": {
      "name": "MNIST.ipynb",
      "provenance": [],
      "authorship_tag": "ABX9TyPUE80TGNCn51ZxY0GheUyp",
      "include_colab_link": true
    },
    "kernelspec": {
      "name": "python3",
      "display_name": "Python 3"
    }
  },
  "cells": [
    {
      "cell_type": "markdown",
      "metadata": {
        "id": "view-in-github",
        "colab_type": "text"
      },
      "source": [
        "<a href=\"https://colab.research.google.com/github/cmannnn/mnist/blob/main/MNIST.ipynb\" target=\"_parent\"><img src=\"https://colab.research.google.com/assets/colab-badge.svg\" alt=\"Open In Colab\"/></a>"
      ]
    },
    {
      "cell_type": "markdown",
      "metadata": {
        "id": "9T1qE98VlGZs"
      },
      "source": [
        "# MNIST classification"
      ]
    },
    {
      "cell_type": "code",
      "metadata": {
        "id": "qvsZwNsVa5Eb"
      },
      "source": [
        "#imports\n",
        "import matplotlib as mpl\n",
        "import matplotlib.pyplot as plt\n",
        "\n",
        "import pandas as pd\n",
        "\n",
        "import numpy as np\n",
        "\n",
        "from sklearn.linear_model import SGDClassifier\n",
        "\n",
        "from sklearn.ensemble import RandomForestClassifier\n",
        "\n",
        "from sklearn.model_selection import cross_val_score\n",
        "from sklearn.model_selection import  cross_val_predict\n",
        "\n",
        "from sklearn.metrics import confusion_matrix\n",
        "from sklearn.metrics import precision_score, recall_score\n",
        "from sklearn.metrics import f1_score\n",
        "from sklearn.metrics import precision_recall_curve\n",
        "from sklearn.metrics import roc_curve\n",
        "from sklearn.metrics import roc_auc_score"
      ],
      "execution_count": 1,
      "outputs": []
    },
    {
      "cell_type": "markdown",
      "metadata": {
        "id": "Wx7jJaSBmXa8"
      },
      "source": [
        "Reading data"
      ]
    },
    {
      "cell_type": "code",
      "metadata": {
        "id": "5QmZn8K0bu8u"
      },
      "source": [
        "# reading in MNIST datasets\n",
        "mnist_train = pd.read_csv('sample_data/mnist_train_small.csv')\n",
        "mnist_test = pd.read_csv('sample_data/mnist_test.csv')"
      ],
      "execution_count": 2,
      "outputs": []
    },
    {
      "cell_type": "code",
      "metadata": {
        "id": "obCSMWtBb8pH",
        "colab": {
          "base_uri": "https://localhost:8080/"
        },
        "outputId": "a159d603-b654-4b21-fdec-a2e2ba92473a"
      },
      "source": [
        "# checking training data shape\n",
        "mnist_train.shape"
      ],
      "execution_count": 3,
      "outputs": [
        {
          "output_type": "execute_result",
          "data": {
            "text/plain": [
              "(19999, 785)"
            ]
          },
          "metadata": {
            "tags": []
          },
          "execution_count": 3
        }
      ]
    },
    {
      "cell_type": "code",
      "metadata": {
        "colab": {
          "base_uri": "https://localhost:8080/"
        },
        "id": "irdpsSUNcf-9",
        "outputId": "7903a3be-450b-4a36-a3b6-8715c0a9e503"
      },
      "source": [
        "# checking testing data shape\n",
        "mnist_test.shape"
      ],
      "execution_count": 4,
      "outputs": [
        {
          "output_type": "execute_result",
          "data": {
            "text/plain": [
              "(9999, 785)"
            ]
          },
          "metadata": {
            "tags": []
          },
          "execution_count": 4
        }
      ]
    },
    {
      "cell_type": "markdown",
      "metadata": {
        "id": "TCe8cED7mcYj"
      },
      "source": [
        "# Splitting train data"
      ]
    },
    {
      "cell_type": "code",
      "metadata": {
        "id": "wk-QxI4vjGr5"
      },
      "source": [
        "# splitting train data into features and targets\n",
        "mnist_train_y = mnist_train['6']\n",
        "mnist_train_X = mnist_train.drop(['6'], axis=1)"
      ],
      "execution_count": 5,
      "outputs": []
    },
    {
      "cell_type": "code",
      "metadata": {
        "colab": {
          "base_uri": "https://localhost:8080/"
        },
        "id": "QtDOCeV9fpFp",
        "outputId": "5a777581-5352-4e6e-ac8b-8ffde85089a1"
      },
      "source": [
        "# checking train y shape\n",
        "mnist_train_y.shape"
      ],
      "execution_count": 6,
      "outputs": [
        {
          "output_type": "execute_result",
          "data": {
            "text/plain": [
              "(19999,)"
            ]
          },
          "metadata": {
            "tags": []
          },
          "execution_count": 6
        }
      ]
    },
    {
      "cell_type": "code",
      "metadata": {
        "colab": {
          "base_uri": "https://localhost:8080/"
        },
        "id": "1Dve-e7VkXlZ",
        "outputId": "09b5d832-2960-4eb0-9735-4c699e0b3817"
      },
      "source": [
        "# checking train X shape\n",
        "mnist_train_X.shape"
      ],
      "execution_count": 7,
      "outputs": [
        {
          "output_type": "execute_result",
          "data": {
            "text/plain": [
              "(19999, 784)"
            ]
          },
          "metadata": {
            "tags": []
          },
          "execution_count": 7
        }
      ]
    },
    {
      "cell_type": "markdown",
      "metadata": {
        "id": "d40jJYPbmk5x"
      },
      "source": [
        "# Splitting test data"
      ]
    },
    {
      "cell_type": "code",
      "metadata": {
        "id": "Wi5EjKR8l29f"
      },
      "source": [
        "# splitting test data into features and targets\n",
        "mnist_test_y = mnist_test['7']\n",
        "mnist_test_X = mnist_test.drop(['7'], axis=1)"
      ],
      "execution_count": 8,
      "outputs": []
    },
    {
      "cell_type": "code",
      "metadata": {
        "colab": {
          "base_uri": "https://localhost:8080/"
        },
        "id": "etpk887ymsMx",
        "outputId": "ef2b11d3-a302-467e-a6b1-2d418563ec31"
      },
      "source": [
        "# checking test y shape\n",
        "mnist_test_y.shape"
      ],
      "execution_count": 9,
      "outputs": [
        {
          "output_type": "execute_result",
          "data": {
            "text/plain": [
              "(9999,)"
            ]
          },
          "metadata": {
            "tags": []
          },
          "execution_count": 9
        }
      ]
    },
    {
      "cell_type": "code",
      "metadata": {
        "colab": {
          "base_uri": "https://localhost:8080/"
        },
        "id": "hXHblQp3msZm",
        "outputId": "80738e5a-0f78-4d85-9304-9ffe157e13f6"
      },
      "source": [
        "# checking test X shape\n",
        "mnist_test_X.shape"
      ],
      "execution_count": 10,
      "outputs": [
        {
          "output_type": "execute_result",
          "data": {
            "text/plain": [
              "(9999, 784)"
            ]
          },
          "metadata": {
            "tags": []
          },
          "execution_count": 10
        }
      ]
    },
    {
      "cell_type": "code",
      "metadata": {
        "colab": {
          "base_uri": "https://localhost:8080/",
          "height": 248
        },
        "id": "0ewdzzgfe5h1",
        "outputId": "40a91691-6678-4445-e7ee-3c0503c1144e"
      },
      "source": [
        "# displaying the image\n",
        "some_digit = np.array(mnist_train_X[:1])\n",
        "some_digit_image = some_digit.reshape(28, 28)\n",
        "\n",
        "plt.imshow(some_digit_image, cmap=mpl.cm.binary, interpolation='nearest')\n",
        "plt.axis('off')\n",
        "plt.show()"
      ],
      "execution_count": 11,
      "outputs": [
        {
          "output_type": "display_data",
          "data": {
            "image/png": "[encoded data removed]",
            "text/plain": [
              "<Figure size 432x288 with 1 Axes>"
            ]
          },
          "metadata": {
            "tags": [],
            "needs_background": "light"
          }
        }
      ]
    },
    {
      "cell_type": "code",
      "metadata": {
        "colab": {
          "base_uri": "https://localhost:8080/"
        },
        "id": "3dkJBAg3eWmP",
        "outputId": "28e0abaf-0d6a-4793-d524-286190a62337"
      },
      "source": [
        "# checking target value\n",
        "mnist_train_y[0]"
      ],
      "execution_count": 12,
      "outputs": [
        {
          "output_type": "execute_result",
          "data": {
            "text/plain": [
              "5"
            ]
          },
          "metadata": {
            "tags": []
          },
          "execution_count": 12
        }
      ]
    },
    {
      "cell_type": "markdown",
      "metadata": {
        "id": "xTq11XrSMvi1"
      },
      "source": [
        "# Training a binary classifier"
      ]
    },
    {
      "cell_type": "code",
      "metadata": {
        "id": "NqGUDMiGNclb"
      },
      "source": [
        "# creating binary data set for a '#5 ditector' as binary classifer test\n",
        "mnist_y_train_5 = (mnist_train_y == 5)\n",
        "mnist_y_test_5 = (mnist_test_y ==5)"
      ],
      "execution_count": 13,
      "outputs": []
    },
    {
      "cell_type": "code",
      "metadata": {
        "colab": {
          "base_uri": "https://localhost:8080/"
        },
        "id": "PVZSS08PQGsM",
        "outputId": "faadbc5a-e7d0-4772-cec9-8ce1ea0b2911"
      },
      "source": [
        "mnist_y_train_5"
      ],
      "execution_count": 14,
      "outputs": [
        {
          "output_type": "execute_result",
          "data": {
            "text/plain": [
              "0         True\n",
              "1        False\n",
              "2        False\n",
              "3         True\n",
              "4        False\n",
              "         ...  \n",
              "19994    False\n",
              "19995    False\n",
              "19996    False\n",
              "19997    False\n",
              "19998     True\n",
              "Name: 6, Length: 19999, dtype: bool"
            ]
          },
          "metadata": {
            "tags": []
          },
          "execution_count": 14
        }
      ]
    },
    {
      "cell_type": "code",
      "metadata": {
        "colab": {
          "base_uri": "https://localhost:8080/"
        },
        "id": "mj9Ixed9QLrO",
        "outputId": "7350710d-d6a4-4e18-f279-c5b49e6ae7fb"
      },
      "source": [
        "mnist_y_test_5"
      ],
      "execution_count": 15,
      "outputs": [
        {
          "output_type": "execute_result",
          "data": {
            "text/plain": [
              "0       False\n",
              "1       False\n",
              "2       False\n",
              "3       False\n",
              "4       False\n",
              "        ...  \n",
              "9994    False\n",
              "9995    False\n",
              "9996    False\n",
              "9997     True\n",
              "9998    False\n",
              "Name: 7, Length: 9999, dtype: bool"
            ]
          },
          "metadata": {
            "tags": []
          },
          "execution_count": 15
        }
      ]
    },
    {
      "cell_type": "code",
      "metadata": {
        "colab": {
          "base_uri": "https://localhost:8080/"
        },
        "id": "sNW-57xlMzmy",
        "outputId": "f0d2c65c-7b85-48b0-c8cc-8dae9d8263ef"
      },
      "source": [
        "# Stochastic Gradient Discent\n",
        "sgd_clf = SGDClassifier(random_state=42)\n",
        "sgd_clf.fit(mnist_train_X, mnist_y_train_5)"
      ],
      "execution_count": 16,
      "outputs": [
        {
          "output_type": "execute_result",
          "data": {
            "text/plain": [
              "SGDClassifier(alpha=0.0001, average=False, class_weight=None,\n",
              "              early_stopping=False, epsilon=0.1, eta0=0.0, fit_intercept=True,\n",
              "              l1_ratio=0.15, learning_rate='optimal', loss='hinge',\n",
              "              max_iter=1000, n_iter_no_change=5, n_jobs=None, penalty='l2',\n",
              "              power_t=0.5, random_state=42, shuffle=True, tol=0.001,\n",
              "              validation_fraction=0.1, verbose=0, warm_start=False)"
            ]
          },
          "metadata": {
            "tags": []
          },
          "execution_count": 16
        }
      ]
    },
    {
      "cell_type": "code",
      "metadata": {
        "colab": {
          "base_uri": "https://localhost:8080/"
        },
        "id": "Mlc5IBZ9ONJn",
        "outputId": "5a141b01-d50a-48de-a0c1-db170c47f35c"
      },
      "source": [
        "# predicting if data == 5\n",
        "sgd_clf.predict(some_digit)"
      ],
      "execution_count": 17,
      "outputs": [
        {
          "output_type": "execute_result",
          "data": {
            "text/plain": [
              "array([ True])"
            ]
          },
          "metadata": {
            "tags": []
          },
          "execution_count": 17
        }
      ]
    },
    {
      "cell_type": "markdown",
      "metadata": {
        "id": "geompx7YRnzA"
      },
      "source": [
        "Measuring score with cross-validation folds"
      ]
    },
    {
      "cell_type": "code",
      "metadata": {
        "colab": {
          "base_uri": "https://localhost:8080/"
        },
        "id": "SS5ZN8X5OlNq",
        "outputId": "1c0fda10-7729-497a-8e56-926811691fe9"
      },
      "source": [
        "# initiating cross folds\n",
        "cross_val_score(sgd_clf, mnist_train_X, mnist_y_train_5, cv=3, scoring='accuracy')"
      ],
      "execution_count": 18,
      "outputs": [
        {
          "output_type": "execute_result",
          "data": {
            "text/plain": [
              "array([0.96130193, 0.95829583, 0.96144614])"
            ]
          },
          "metadata": {
            "tags": []
          },
          "execution_count": 18
        }
      ]
    },
    {
      "cell_type": "markdown",
      "metadata": {
        "id": "Fnh9pP2wU6_u"
      },
      "source": [
        "Measuring score with confusion matrix"
      ]
    },
    {
      "cell_type": "code",
      "metadata": {
        "id": "pMcQpH2ASJax"
      },
      "source": [
        "# initiating cross val predictor\n",
        "y_train_pred = cross_val_predict(sgd_clf, mnist_train_X, mnist_y_train_5, cv=3) "
      ],
      "execution_count": 19,
      "outputs": []
    },
    {
      "cell_type": "code",
      "metadata": {
        "colab": {
          "base_uri": "https://localhost:8080/"
        },
        "id": "p6KZP2y5V-uT",
        "outputId": "3a127fa1-c19a-41e0-eb7e-1fde6a0744be"
      },
      "source": [
        "# measuring confusion matrix\n",
        "confusion_matrix(mnist_y_train_5, y_train_pred)"
      ],
      "execution_count": 20,
      "outputs": [
        {
          "output_type": "execute_result",
          "data": {
            "text/plain": [
              "array([[17952,   286],\n",
              "       [  507,  1254]])"
            ]
          },
          "metadata": {
            "tags": []
          },
          "execution_count": 20
        }
      ]
    },
    {
      "cell_type": "markdown",
      "metadata": {
        "id": "x2SbGAofZdiL"
      },
      "source": [
        "Measuring precision and recall"
      ]
    },
    {
      "cell_type": "code",
      "metadata": {
        "colab": {
          "base_uri": "https://localhost:8080/"
        },
        "id": "DJT6rh3cXENl",
        "outputId": "ee2497c4-f5c8-4b6a-ae48-5c00b193575f"
      },
      "source": [
        "# precision\n",
        "precision_score(mnist_y_train_5, y_train_pred)"
      ],
      "execution_count": 21,
      "outputs": [
        {
          "output_type": "execute_result",
          "data": {
            "text/plain": [
              "0.8142857142857143"
            ]
          },
          "metadata": {
            "tags": []
          },
          "execution_count": 21
        }
      ]
    },
    {
      "cell_type": "code",
      "metadata": {
        "colab": {
          "base_uri": "https://localhost:8080/"
        },
        "id": "LAENBRGwaKk-",
        "outputId": "3960c840-e02a-4d2c-9472-9cec98352612"
      },
      "source": [
        "# recall\n",
        "recall_score(mnist_y_train_5, y_train_pred)"
      ],
      "execution_count": 22,
      "outputs": [
        {
          "output_type": "execute_result",
          "data": {
            "text/plain": [
              "0.7120954003407155"
            ]
          },
          "metadata": {
            "tags": []
          },
          "execution_count": 22
        }
      ]
    },
    {
      "cell_type": "markdown",
      "metadata": {
        "id": "-uj740AIa378"
      },
      "source": [
        "Measuring f1 score"
      ]
    },
    {
      "cell_type": "code",
      "metadata": {
        "colab": {
          "base_uri": "https://localhost:8080/"
        },
        "id": "2VYacX2IaVQW",
        "outputId": "95787606-3bc2-4639-94be-8e755be3b025"
      },
      "source": [
        "# measuring f1\n",
        "f1_score(mnist_y_train_5, y_train_pred)"
      ],
      "execution_count": 23,
      "outputs": [
        {
          "output_type": "execute_result",
          "data": {
            "text/plain": [
              "0.7597697667373522"
            ]
          },
          "metadata": {
            "tags": []
          },
          "execution_count": 23
        }
      ]
    },
    {
      "cell_type": "markdown",
      "metadata": {
        "id": "x3UWTV9xdbfa"
      },
      "source": [
        "Determining precision recall tradeoff"
      ]
    },
    {
      "cell_type": "code",
      "metadata": {
        "id": "WefOi5pLbDgo"
      },
      "source": [
        "# using cross_val_predict part 2\n",
        "y_scores = cross_val_predict(sgd_clf, mnist_train_X, mnist_y_train_5, cv=3, method='decision_function')"
      ],
      "execution_count": 24,
      "outputs": []
    },
    {
      "cell_type": "code",
      "metadata": {
        "id": "38dycj0IeKox"
      },
      "source": [
        "# creating precision recall curve\n",
        "precisions, recalls, thresholds = precision_recall_curve(mnist_y_train_5, y_scores)"
      ],
      "execution_count": 25,
      "outputs": []
    },
    {
      "cell_type": "code",
      "metadata": {
        "id": "3W4h5bv6vIKM"
      },
      "source": [
        "# calculating 90% precision and 90% accuracy\n",
        "recall_90_precision= recalls[np.argmax(precisions >= 0.90)]\n",
        "threshold_90_precision = thresholds[np.argmax(precisions >= 0.90)]"
      ],
      "execution_count": 28,
      "outputs": []
    },
    {
      "cell_type": "code",
      "metadata": {
        "colab": {
          "base_uri": "https://localhost:8080/",
          "height": 499
        },
        "id": "YsOt6pzBfLOV",
        "outputId": "7d66d027-0e71-4cee-d767-51e3bc5d9973"
      },
      "source": [
        "# plotting 90% precision 90% recall ROC graph\n",
        "fig, ax = plt.subplots(figsize=[14,8])\n",
        "\n",
        "plt.plot(thresholds, precisions[:-1], 'b--', label='Precision')\n",
        "plt.plot(thresholds, recalls[:-1], 'g-', label='Recall')\n",
        "\n",
        "plt.plot([threshold_90_precision, threshold_90_precision], [0., 0.9], 'r:')\n",
        "plt.plot([-5000, threshold_90_precision], [0.9, 0.9], 'r:')\n",
        "\n",
        "\n",
        "plt.grid(True)\n",
        "plt.title('Precision vs. recall')\n",
        "plt.legend()\n",
        "plt.show()"
      ],
      "execution_count": 30,
      "outputs": [
        {
          "output_type": "display_data",
          "data": {
            "image/png": "[encoded data removed]",
            "text/plain": [
              "<Figure size 1008x576 with 1 Axes>"
            ]
          },
          "metadata": {
            "tags": [],
            "needs_background": "light"
          }
        }
      ]
    },
    {
      "cell_type": "code",
      "metadata": {
        "id": "vo-diIfHfZai"
      },
      "source": [
        "# aiming for 90% precision with argmax\n",
        "threshold_90_precision = thresholds[np.argmax(precisions >= 0.90)]"
      ],
      "execution_count": 28,
      "outputs": []
    },
    {
      "cell_type": "code",
      "metadata": {
        "id": "DRP_3kaEgVnK"
      },
      "source": [
        "# checking predictions with 90& precision\n",
        "y_train_pred_90 = (y_scores >= threshold_90_precision)"
      ],
      "execution_count": 29,
      "outputs": []
    },
    {
      "cell_type": "code",
      "metadata": {
        "colab": {
          "base_uri": "https://localhost:8080/"
        },
        "id": "rQG-eEaahWDb",
        "outputId": "500814b2-0669-4429-aa49-124ff6263d40"
      },
      "source": [
        "# checking predictions precision score\n",
        "precision_score(mnist_y_train_5, y_train_pred_90)"
      ],
      "execution_count": 30,
      "outputs": [
        {
          "output_type": "execute_result",
          "data": {
            "text/plain": [
              "0.9005658852061439"
            ]
          },
          "metadata": {
            "tags": []
          },
          "execution_count": 30
        }
      ]
    },
    {
      "cell_type": "code",
      "metadata": {
        "colab": {
          "base_uri": "https://localhost:8080/"
        },
        "id": "1FQ3zVEbhgK-",
        "outputId": "7e727cdf-81c7-470b-be81-1e836aa15436"
      },
      "source": [
        "# checing precitions recall score\n",
        "recall_score(mnist_y_train_5, y_train_pred_90)"
      ],
      "execution_count": 31,
      "outputs": [
        {
          "output_type": "execute_result",
          "data": {
            "text/plain": [
              "0.6325951164111301"
            ]
          },
          "metadata": {
            "tags": []
          },
          "execution_count": 31
        }
      ]
    },
    {
      "cell_type": "markdown",
      "metadata": {
        "id": "YSXnfB24kRqh"
      },
      "source": [
        "ROC curve"
      ]
    },
    {
      "cell_type": "code",
      "metadata": {
        "id": "7qkdjhs4iA7U"
      },
      "source": [
        "# calculating false positive, true positive, and thresholds\n",
        "fpr, tpr, thresholds = roc_curve(mnist_y_train_5, y_scores)"
      ],
      "execution_count": 32,
      "outputs": []
    },
    {
      "cell_type": "code",
      "metadata": {
        "colab": {
          "base_uri": "https://localhost:8080/",
          "height": 513
        },
        "id": "DgTS0st_koXv",
        "outputId": "1764ae96-45ef-4c13-a25e-c3a309adf25d"
      },
      "source": [
        "# plotting the ROC curve\n",
        "fig, ax = plt.subplots(figsize=[12, 8])\n",
        "plt.plot(fpr, tpr, linewidth=2, label=None)\n",
        "plt.plot([0, 1], [0, 1], 'k--')\n",
        "\n",
        "plt.grid()\n",
        "plt.xlabel('False positive rate')\n",
        "plt.ylabel('True positive rate')\n",
        "plt.title('ROC curve')\n",
        "plt.show()"
      ],
      "execution_count": 33,
      "outputs": [
        {
          "output_type": "display_data",
          "data": {
            "image/png": "[encoded data removed]",
            "text/plain": [
              "<Figure size 864x576 with 1 Axes>"
            ]
          },
          "metadata": {
            "tags": [],
            "needs_background": "light"
          }
        }
      ]
    },
    {
      "cell_type": "code",
      "metadata": {
        "colab": {
          "base_uri": "https://localhost:8080/"
        },
        "id": "KhtLCjzUkzWX",
        "outputId": "0cb2d4e6-7809-4fc2-a886-a215610f5a63"
      },
      "source": [
        "# calculating roc auc score\n",
        "roc_auc_score(mnist_y_train_5, y_scores)"
      ],
      "execution_count": 34,
      "outputs": [
        {
          "output_type": "execute_result",
          "data": {
            "text/plain": [
              "0.9498462782370448"
            ]
          },
          "metadata": {
            "tags": []
          },
          "execution_count": 34
        }
      ]
    },
    {
      "cell_type": "markdown",
      "metadata": {
        "id": "mD7va-2_oJ9w"
      },
      "source": [
        "Comparing/contrasting SGDCLassifier and RandomForestClassifier's ROC and ROC AUC curve"
      ]
    },
    {
      "cell_type": "code",
      "metadata": {
        "id": "lcgTTixmnRfJ"
      },
      "source": [
        "# initiating RandomForest \n",
        "forest_clf = RandomForestClassifier(random_state=42)\n",
        "y_probas_forest = cross_val_predict(forest_clf, mnist_train_X, mnist_y_train_5, cv=3, method='predict_proba')"
      ],
      "execution_count": 36,
      "outputs": []
    },
    {
      "cell_type": "code",
      "metadata": {
        "id": "jANVTRoOpRBb"
      },
      "source": [
        "# getting random forest scores instead of probabilities\n",
        "y_scores_forest = y_probas_forest[:, 1]"
      ],
      "execution_count": 37,
      "outputs": []
    },
    {
      "cell_type": "code",
      "metadata": {
        "id": "gq_Y6xGtr6XF"
      },
      "source": [
        "# setting up the ROC curve\n",
        "fpr_forest, tpr_forest, thresholds_forest = roc_curve(mnist_y_train_5, y_scores_forest)"
      ],
      "execution_count": 38,
      "outputs": []
    },
    {
      "cell_type": "code",
      "metadata": {
        "colab": {
          "base_uri": "https://localhost:8080/",
          "height": 708
        },
        "id": "PMQcLdKksWBM",
        "outputId": "2b5791fa-1894-4c5e-94c0-c133363c46d8"
      },
      "source": [
        "# plotting random forest ROC curve\n",
        "ax, fig = plt.subplots(figsize=[12, 8])\n",
        "plt.plot(fpr, tpr, 'b', label='SGD')\n",
        "plt.plot_roc_curve(fpr_forest, tpr_forest, 'Random Forest')\n",
        "plt.legend(loc='lower right')\n",
        "plt.show()"
      ],
      "execution_count": 41,
      "outputs": [
        {
          "output_type": "error",
          "ename": "AttributeError",
          "evalue": "ignored",
          "traceback": [
            "\u001b[0;31m---------------------------------------------------------------------------\u001b[0m",
            "\u001b[0;31mAttributeError\u001b[0m                            Traceback (most recent call last)",
            "\u001b[0;32m<ipython-input-41-10694a01da38>\u001b[0m in \u001b[0;36m<module>\u001b[0;34m()\u001b[0m\n\u001b[1;32m      2\u001b[0m \u001b[0max\u001b[0m\u001b[0;34m,\u001b[0m \u001b[0mfig\u001b[0m \u001b[0;34m=\u001b[0m \u001b[0mplt\u001b[0m\u001b[0;34m.\u001b[0m\u001b[0msubplots\u001b[0m\u001b[0;34m(\u001b[0m\u001b[0mfigsize\u001b[0m\u001b[0;34m=\u001b[0m\u001b[0;34m[\u001b[0m\u001b[0;36m12\u001b[0m\u001b[0;34m,\u001b[0m \u001b[0;36m8\u001b[0m\u001b[0;34m]\u001b[0m\u001b[0;34m)\u001b[0m\u001b[0;34m\u001b[0m\u001b[0;34m\u001b[0m\u001b[0m\n\u001b[1;32m      3\u001b[0m \u001b[0mplt\u001b[0m\u001b[0;34m.\u001b[0m\u001b[0mplot\u001b[0m\u001b[0;34m(\u001b[0m\u001b[0mfpr\u001b[0m\u001b[0;34m,\u001b[0m \u001b[0mtpr\u001b[0m\u001b[0;34m,\u001b[0m \u001b[0;34m'b'\u001b[0m\u001b[0;34m,\u001b[0m \u001b[0mlabel\u001b[0m\u001b[0;34m=\u001b[0m\u001b[0;34m'SGD'\u001b[0m\u001b[0;34m)\u001b[0m\u001b[0;34m\u001b[0m\u001b[0;34m\u001b[0m\u001b[0m\n\u001b[0;32m----> 4\u001b[0;31m \u001b[0mplt\u001b[0m\u001b[0;34m.\u001b[0m\u001b[0mplot_roc_curve\u001b[0m\u001b[0;34m(\u001b[0m\u001b[0mfpr_forest\u001b[0m\u001b[0;34m,\u001b[0m \u001b[0mtpr_forest\u001b[0m\u001b[0;34m,\u001b[0m \u001b[0;34m'Random Forest'\u001b[0m\u001b[0;34m)\u001b[0m\u001b[0;34m\u001b[0m\u001b[0;34m\u001b[0m\u001b[0m\n\u001b[0m\u001b[1;32m      5\u001b[0m \u001b[0mplt\u001b[0m\u001b[0;34m.\u001b[0m\u001b[0mlegend\u001b[0m\u001b[0;34m(\u001b[0m\u001b[0mloc\u001b[0m\u001b[0;34m=\u001b[0m\u001b[0;34m'lower right'\u001b[0m\u001b[0;34m)\u001b[0m\u001b[0;34m\u001b[0m\u001b[0;34m\u001b[0m\u001b[0m\n\u001b[1;32m      6\u001b[0m \u001b[0mplt\u001b[0m\u001b[0;34m.\u001b[0m\u001b[0mshow\u001b[0m\u001b[0;34m(\u001b[0m\u001b[0;34m)\u001b[0m\u001b[0;34m\u001b[0m\u001b[0;34m\u001b[0m\u001b[0m\n",
            "\u001b[0;31mAttributeError\u001b[0m: module 'matplotlib.pyplot' has no attribute 'plot_roc_curve'"
          ]
        },
        {
          "output_type": "display_data",
          "data": {
            "image/png": "[encoded data removed]",
            "text/plain": [
              "<Figure size 864x576 with 1 Axes>"
            ]
          },
          "metadata": {
            "tags": [],
            "needs_background": "light"
          }
        }
      ]
    },
    {
      "cell_type": "code",
      "metadata": {
        "id": "CBq-5qtLsm0S"
      },
      "source": [
        ""
      ],
      "execution_count": null,
      "outputs": []
    }
  ]
}