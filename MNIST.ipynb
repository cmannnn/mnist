{
  "nbformat": 4,
  "nbformat_minor": 0,
  "metadata": {
    "colab": {
      "name": "MNIST.ipynb",
      "provenance": [],
      "authorship_tag": "ABX9TyOv7oEn5AbIx2g2D6tiX61d",
      "include_colab_link": true
    },
    "kernelspec": {
      "name": "python3",
      "display_name": "Python 3"
    }
  },
  "cells": [
    {
      "cell_type": "markdown",
      "metadata": {
        "id": "view-in-github",
        "colab_type": "text"
      },
      "source": [
        "<a href=\"https://colab.research.google.com/github/cmannnn/mnist/blob/main/MNIST.ipynb\" target=\"_parent\"><img src=\"https://colab.research.google.com/assets/colab-badge.svg\" alt=\"Open In Colab\"/></a>"
      ]
    },
    {
      "cell_type": "markdown",
      "metadata": {
        "id": "9T1qE98VlGZs"
      },
      "source": [
        "# MNIST classification"
      ]
    },
    {
      "cell_type": "code",
      "metadata": {
        "id": "qvsZwNsVa5Eb"
      },
      "source": [
        "#imports\n",
        "import matplotlib as mpl\n",
        "import matplotlib.pyplot as plt\n",
        "\n",
        "import pandas as pd\n",
        "\n",
        "import numpy as np\n",
        "\n",
        "from sklearn.linear_model import SGDClassifier\n",
        "\n",
        "from sklearn.model_selection import cross_val_score\n",
        "from sklearn.model_selection import  cross_val_predict\n",
        "\n",
        "from sklearn.metrics import confusion_matrix\n",
        "from sklearn.metrics import precision_score, recall_score\n",
        "from sklearn.metrics import f1_score\n",
        "from sklearn.metrics import precision_recall_curve"
      ],
      "execution_count": 1,
      "outputs": []
    },
    {
      "cell_type": "markdown",
      "metadata": {
        "id": "Wx7jJaSBmXa8"
      },
      "source": [
        "Reading data"
      ]
    },
    {
      "cell_type": "code",
      "metadata": {
        "id": "5QmZn8K0bu8u"
      },
      "source": [
        "# reading in MNIST datasets\n",
        "mnist_train = pd.read_csv('sample_data/mnist_train_small.csv')\n",
        "mnist_test = pd.read_csv('sample_data/mnist_test.csv')"
      ],
      "execution_count": 2,
      "outputs": []
    },
    {
      "cell_type": "code",
      "metadata": {
        "id": "obCSMWtBb8pH",
        "colab": {
          "base_uri": "https://localhost:8080/"
        },
        "outputId": "a55c96dd-ad24-4eec-c782-45f9fc31ce84"
      },
      "source": [
        "# checking training data shape\n",
        "mnist_train.shape"
      ],
      "execution_count": 3,
      "outputs": [
        {
          "output_type": "execute_result",
          "data": {
            "text/plain": [
              "(19999, 785)"
            ]
          },
          "metadata": {
            "tags": []
          },
          "execution_count": 3
        }
      ]
    },
    {
      "cell_type": "code",
      "metadata": {
        "colab": {
          "base_uri": "https://localhost:8080/"
        },
        "id": "irdpsSUNcf-9",
        "outputId": "07a538d4-74cf-4bad-fd4e-459d5a9fdef2"
      },
      "source": [
        "# checking testing data shape\n",
        "mnist_test.shape"
      ],
      "execution_count": 4,
      "outputs": [
        {
          "output_type": "execute_result",
          "data": {
            "text/plain": [
              "(9999, 785)"
            ]
          },
          "metadata": {
            "tags": []
          },
          "execution_count": 4
        }
      ]
    },
    {
      "cell_type": "markdown",
      "metadata": {
        "id": "TCe8cED7mcYj"
      },
      "source": [
        "# Splitting train data"
      ]
    },
    {
      "cell_type": "code",
      "metadata": {
        "id": "wk-QxI4vjGr5"
      },
      "source": [
        "# splitting train data into features and targets\n",
        "mnist_train_y = mnist_train['6']\n",
        "mnist_train_X = mnist_train.drop(['6'], axis=1)"
      ],
      "execution_count": 5,
      "outputs": []
    },
    {
      "cell_type": "code",
      "metadata": {
        "colab": {
          "base_uri": "https://localhost:8080/"
        },
        "id": "QtDOCeV9fpFp",
        "outputId": "bad12229-b0f8-4073-d113-4f2bf5b9bbc6"
      },
      "source": [
        "# checking train y shape\n",
        "mnist_train_y.shape"
      ],
      "execution_count": 6,
      "outputs": [
        {
          "output_type": "execute_result",
          "data": {
            "text/plain": [
              "(19999,)"
            ]
          },
          "metadata": {
            "tags": []
          },
          "execution_count": 6
        }
      ]
    },
    {
      "cell_type": "code",
      "metadata": {
        "colab": {
          "base_uri": "https://localhost:8080/"
        },
        "id": "1Dve-e7VkXlZ",
        "outputId": "85caae5d-4133-4eb8-db18-2d0c65836746"
      },
      "source": [
        "# checking train X shape\n",
        "mnist_train_X.shape"
      ],
      "execution_count": 7,
      "outputs": [
        {
          "output_type": "execute_result",
          "data": {
            "text/plain": [
              "(19999, 784)"
            ]
          },
          "metadata": {
            "tags": []
          },
          "execution_count": 7
        }
      ]
    },
    {
      "cell_type": "markdown",
      "metadata": {
        "id": "d40jJYPbmk5x"
      },
      "source": [
        "# Splitting test data"
      ]
    },
    {
      "cell_type": "code",
      "metadata": {
        "id": "Wi5EjKR8l29f"
      },
      "source": [
        "# splitting test data into features and targets\n",
        "mnist_test_y = mnist_test['7']\n",
        "mnist_test_X = mnist_test.drop(['7'], axis=1)"
      ],
      "execution_count": 8,
      "outputs": []
    },
    {
      "cell_type": "code",
      "metadata": {
        "colab": {
          "base_uri": "https://localhost:8080/"
        },
        "id": "etpk887ymsMx",
        "outputId": "b0bef6f5-5f26-4ebc-cdb2-eb75794fe6b0"
      },
      "source": [
        "# checking test y shape\n",
        "mnist_test_y.shape"
      ],
      "execution_count": 9,
      "outputs": [
        {
          "output_type": "execute_result",
          "data": {
            "text/plain": [
              "(9999,)"
            ]
          },
          "metadata": {
            "tags": []
          },
          "execution_count": 9
        }
      ]
    },
    {
      "cell_type": "code",
      "metadata": {
        "colab": {
          "base_uri": "https://localhost:8080/"
        },
        "id": "hXHblQp3msZm",
        "outputId": "96194d02-de2b-42a2-c645-b9e4f99d5835"
      },
      "source": [
        "# checking test X shape\n",
        "mnist_test_X.shape"
      ],
      "execution_count": 10,
      "outputs": [
        {
          "output_type": "execute_result",
          "data": {
            "text/plain": [
              "(9999, 784)"
            ]
          },
          "metadata": {
            "tags": []
          },
          "execution_count": 10
        }
      ]
    },
    {
      "cell_type": "code",
      "metadata": {
        "colab": {
          "base_uri": "https://localhost:8080/",
          "height": 248
        },
        "id": "0ewdzzgfe5h1",
        "outputId": "37b47c63-569c-482a-83b0-f6007d005981"
      },
      "source": [
        "# displaying the image\n",
        "some_digit = np.array(mnist_train_X[:1])\n",
        "some_digit_image = some_digit.reshape(28, 28)\n",
        "\n",
        "plt.imshow(some_digit_image, cmap=mpl.cm.binary, interpolation='nearest')\n",
        "plt.axis('off')\n",
        "plt.show()"
      ],
      "execution_count": 11,
      "outputs": [
        {
          "output_type": "display_data",
          "data": {
            "image/png": "[encoded data removed]",
            "text/plain": [
              "<Figure size 432x288 with 1 Axes>"
            ]
          },
          "metadata": {
            "tags": [],
            "needs_background": "light"
          }
        }
      ]
    },
    {
      "cell_type": "code",
      "metadata": {
        "colab": {
          "base_uri": "https://localhost:8080/"
        },
        "id": "3dkJBAg3eWmP",
        "outputId": "8a1c47b1-6e38-4b6a-b87a-aa2f37e80122"
      },
      "source": [
        "# checking target value\n",
        "mnist_train_y[0]"
      ],
      "execution_count": 12,
      "outputs": [
        {
          "output_type": "execute_result",
          "data": {
            "text/plain": [
              "5"
            ]
          },
          "metadata": {
            "tags": []
          },
          "execution_count": 12
        }
      ]
    },
    {
      "cell_type": "markdown",
      "metadata": {
        "id": "xTq11XrSMvi1"
      },
      "source": [
        "# Training a binary classifier"
      ]
    },
    {
      "cell_type": "code",
      "metadata": {
        "id": "NqGUDMiGNclb"
      },
      "source": [
        "# creating binary data set for a '#5 ditector' as binary classifer test\n",
        "mnist_y_train_5 = (mnist_train_y == 5)\n",
        "mnist_y_test_5 = (mnist_test_y ==5)"
      ],
      "execution_count": 13,
      "outputs": []
    },
    {
      "cell_type": "code",
      "metadata": {
        "colab": {
          "base_uri": "https://localhost:8080/"
        },
        "id": "PVZSS08PQGsM",
        "outputId": "61c8ed07-e50f-48c5-9c09-58d107f769ea"
      },
      "source": [
        "mnist_y_train_5"
      ],
      "execution_count": 14,
      "outputs": [
        {
          "output_type": "execute_result",
          "data": {
            "text/plain": [
              "0         True\n",
              "1        False\n",
              "2        False\n",
              "3         True\n",
              "4        False\n",
              "         ...  \n",
              "19994    False\n",
              "19995    False\n",
              "19996    False\n",
              "19997    False\n",
              "19998     True\n",
              "Name: 6, Length: 19999, dtype: bool"
            ]
          },
          "metadata": {
            "tags": []
          },
          "execution_count": 14
        }
      ]
    },
    {
      "cell_type": "code",
      "metadata": {
        "colab": {
          "base_uri": "https://localhost:8080/"
        },
        "id": "mj9Ixed9QLrO",
        "outputId": "7bec00bc-e67e-48a5-edc7-6d5526bf03a7"
      },
      "source": [
        "mnist_y_test_5"
      ],
      "execution_count": 15,
      "outputs": [
        {
          "output_type": "execute_result",
          "data": {
            "text/plain": [
              "0       False\n",
              "1       False\n",
              "2       False\n",
              "3       False\n",
              "4       False\n",
              "        ...  \n",
              "9994    False\n",
              "9995    False\n",
              "9996    False\n",
              "9997     True\n",
              "9998    False\n",
              "Name: 7, Length: 9999, dtype: bool"
            ]
          },
          "metadata": {
            "tags": []
          },
          "execution_count": 15
        }
      ]
    },
    {
      "cell_type": "code",
      "metadata": {
        "colab": {
          "base_uri": "https://localhost:8080/"
        },
        "id": "sNW-57xlMzmy",
        "outputId": "63ba994b-d272-4ed6-a287-619357a91917"
      },
      "source": [
        "# Stochastic Gradient Discent\n",
        "sgd_clf = SGDClassifier(random_state=42)\n",
        "sgd_clf.fit(mnist_train_X, mnist_y_train_5)"
      ],
      "execution_count": 16,
      "outputs": [
        {
          "output_type": "execute_result",
          "data": {
            "text/plain": [
              "SGDClassifier(alpha=0.0001, average=False, class_weight=None,\n",
              "              early_stopping=False, epsilon=0.1, eta0=0.0, fit_intercept=True,\n",
              "              l1_ratio=0.15, learning_rate='optimal', loss='hinge',\n",
              "              max_iter=1000, n_iter_no_change=5, n_jobs=None, penalty='l2',\n",
              "              power_t=0.5, random_state=42, shuffle=True, tol=0.001,\n",
              "              validation_fraction=0.1, verbose=0, warm_start=False)"
            ]
          },
          "metadata": {
            "tags": []
          },
          "execution_count": 16
        }
      ]
    },
    {
      "cell_type": "code",
      "metadata": {
        "colab": {
          "base_uri": "https://localhost:8080/"
        },
        "id": "Mlc5IBZ9ONJn",
        "outputId": "56a8f884-b294-432c-fbe9-d5e801aa4d7e"
      },
      "source": [
        "# predicting if data == 5\n",
        "sgd_clf.predict(some_digit)"
      ],
      "execution_count": 17,
      "outputs": [
        {
          "output_type": "execute_result",
          "data": {
            "text/plain": [
              "array([ True])"
            ]
          },
          "metadata": {
            "tags": []
          },
          "execution_count": 17
        }
      ]
    },
    {
      "cell_type": "markdown",
      "metadata": {
        "id": "geompx7YRnzA"
      },
      "source": [
        "Measuring score with cross-validation folds"
      ]
    },
    {
      "cell_type": "code",
      "metadata": {
        "colab": {
          "base_uri": "https://localhost:8080/"
        },
        "id": "SS5ZN8X5OlNq",
        "outputId": "35b6358b-ce0e-4e99-b632-6643a876e585"
      },
      "source": [
        "# initiating cross folds\n",
        "cross_val_score(sgd_clf, mnist_train_X, mnist_y_train_5, cv=3, scoring='accuracy')"
      ],
      "execution_count": 18,
      "outputs": [
        {
          "output_type": "execute_result",
          "data": {
            "text/plain": [
              "array([0.96130193, 0.95829583, 0.96144614])"
            ]
          },
          "metadata": {
            "tags": []
          },
          "execution_count": 18
        }
      ]
    },
    {
      "cell_type": "markdown",
      "metadata": {
        "id": "Fnh9pP2wU6_u"
      },
      "source": [
        "Measuring score with confusion matrix"
      ]
    },
    {
      "cell_type": "code",
      "metadata": {
        "id": "pMcQpH2ASJax"
      },
      "source": [
        "# initiating cross val predictor\n",
        "y_train_pred = cross_val_predict(sgd_clf, mnist_train_X, mnist_y_train_5, cv=3) "
      ],
      "execution_count": 19,
      "outputs": []
    },
    {
      "cell_type": "code",
      "metadata": {
        "colab": {
          "base_uri": "https://localhost:8080/"
        },
        "id": "p6KZP2y5V-uT",
        "outputId": "42168a2c-da89-4cb2-d124-1380224fa0b3"
      },
      "source": [
        "# measuring confusion matrix\n",
        "confusion_matrix(mnist_y_train_5, y_train_pred)"
      ],
      "execution_count": 20,
      "outputs": [
        {
          "output_type": "execute_result",
          "data": {
            "text/plain": [
              "array([[17952,   286],\n",
              "       [  507,  1254]])"
            ]
          },
          "metadata": {
            "tags": []
          },
          "execution_count": 20
        }
      ]
    },
    {
      "cell_type": "markdown",
      "metadata": {
        "id": "x2SbGAofZdiL"
      },
      "source": [
        "Measuring precision and recall"
      ]
    },
    {
      "cell_type": "code",
      "metadata": {
        "colab": {
          "base_uri": "https://localhost:8080/"
        },
        "id": "DJT6rh3cXENl",
        "outputId": "c98dd42c-9ca2-4ce3-f6a7-f062aa8cf510"
      },
      "source": [
        "# precision\n",
        "precision_score(mnist_y_train_5, y_train_pred)"
      ],
      "execution_count": 21,
      "outputs": [
        {
          "output_type": "execute_result",
          "data": {
            "text/plain": [
              "0.8142857142857143"
            ]
          },
          "metadata": {
            "tags": []
          },
          "execution_count": 21
        }
      ]
    },
    {
      "cell_type": "code",
      "metadata": {
        "colab": {
          "base_uri": "https://localhost:8080/"
        },
        "id": "LAENBRGwaKk-",
        "outputId": "54eef1a3-93de-4f3b-d460-8a899edb26f1"
      },
      "source": [
        "# recall\n",
        "recall_score(mnist_y_train_5, y_train_pred)"
      ],
      "execution_count": 22,
      "outputs": [
        {
          "output_type": "execute_result",
          "data": {
            "text/plain": [
              "0.7120954003407155"
            ]
          },
          "metadata": {
            "tags": []
          },
          "execution_count": 22
        }
      ]
    },
    {
      "cell_type": "markdown",
      "metadata": {
        "id": "-uj740AIa378"
      },
      "source": [
        "Measuring f1 score"
      ]
    },
    {
      "cell_type": "code",
      "metadata": {
        "colab": {
          "base_uri": "https://localhost:8080/"
        },
        "id": "2VYacX2IaVQW",
        "outputId": "aeaaf9d6-5635-4ebf-ac82-be667042422c"
      },
      "source": [
        "# measuring f1\n",
        "f1_score(mnist_y_train_5, y_train_pred)"
      ],
      "execution_count": 23,
      "outputs": [
        {
          "output_type": "execute_result",
          "data": {
            "text/plain": [
              "0.7597697667373522"
            ]
          },
          "metadata": {
            "tags": []
          },
          "execution_count": 23
        }
      ]
    },
    {
      "cell_type": "markdown",
      "metadata": {
        "id": "x3UWTV9xdbfa"
      },
      "source": [
        "Determining precision recall tradeoff"
      ]
    },
    {
      "cell_type": "code",
      "metadata": {
        "id": "WefOi5pLbDgo"
      },
      "source": [
        "# using cross_val_predict part 2\n",
        "y_scores = cross_val_predict(sgd_clf, mnist_train_X, mnist_y_train_5, cv=3, method='decision_function')"
      ],
      "execution_count": 24,
      "outputs": []
    },
    {
      "cell_type": "code",
      "metadata": {
        "id": "38dycj0IeKox"
      },
      "source": [
        "# creating precision recall curve\n",
        "precisions, recalls, thresholds = precision_recall_curve(mnist_y_train_5, y_scores)"
      ],
      "execution_count": 25,
      "outputs": []
    },
    {
      "cell_type": "code",
      "metadata": {
        "colab": {
          "base_uri": "https://localhost:8080/",
          "height": 499
        },
        "id": "YsOt6pzBfLOV",
        "outputId": "2d531119-8e8f-405e-bdd3-6c4c01e174fc"
      },
      "source": [
        "# plotting\n",
        "fig, ax = plt.subplots(figsize=[14,8])\n",
        "\n",
        "plt.plot(thresholds, precisions[:-1], 'b--', label='Precision')\n",
        "plt.plot(thresholds, recalls[:-1], 'g-', label='Recall')\n",
        "\n",
        "plt.grid()\n",
        "plt.title('Precision vs. recall')\n",
        "plt.legend()\n",
        "plt.show()"
      ],
      "execution_count": 27,
      "outputs": [
        {
          "output_type": "display_data",
          "data": {
            "image/png": "[encoded data removed]",
            "text/plain": [
              "<Figure size 1008x576 with 1 Axes>"
            ]
          },
          "metadata": {
            "tags": [],
            "needs_background": "light"
          }
        }
      ]
    },
    {
      "cell_type": "code",
      "metadata": {
        "id": "vo-diIfHfZai"
      },
      "source": [
        "# aiming for 90% precision with argmax\n",
        "threshold_90_precision = thresholds[np.argmax(precisions >= 0.90)]"
      ],
      "execution_count": 28,
      "outputs": []
    },
    {
      "cell_type": "code",
      "metadata": {
        "id": "DRP_3kaEgVnK"
      },
      "source": [
        "# checking predictions with 90& precision\n",
        "y_train_pred_90 = (y_scores >= threshold_90_precision)"
      ],
      "execution_count": 29,
      "outputs": []
    },
    {
      "cell_type": "code",
      "metadata": {
        "colab": {
          "base_uri": "https://localhost:8080/"
        },
        "id": "rQG-eEaahWDb",
        "outputId": "d12e39f0-a16a-4763-d63c-d5dcd279900e"
      },
      "source": [
        "# checking predictions precision score\n",
        "precision_score(mnist_y_train_5, y_train_pred_90)"
      ],
      "execution_count": 35,
      "outputs": [
        {
          "output_type": "execute_result",
          "data": {
            "text/plain": [
              "0.9005658852061439"
            ]
          },
          "metadata": {
            "tags": []
          },
          "execution_count": 35
        }
      ]
    },
    {
      "cell_type": "code",
      "metadata": {
        "colab": {
          "base_uri": "https://localhost:8080/"
        },
        "id": "1FQ3zVEbhgK-",
        "outputId": "fc2e24ab-4768-4226-a531-c33e8e39ec57"
      },
      "source": [
        "# checing precitions recall score\n",
        "recall_score(mnist_y_train_5, y_train_pred_90)"
      ],
      "execution_count": 36,
      "outputs": [
        {
          "output_type": "execute_result",
          "data": {
            "text/plain": [
              "0.6325951164111301"
            ]
          },
          "metadata": {
            "tags": []
          },
          "execution_count": 36
        }
      ]
    },
    {
      "cell_type": "code",
      "metadata": {
        "id": "7qkdjhs4iA7U"
      },
      "source": [
        ""
      ],
      "execution_count": null,
      "outputs": []
    }
  ]
}