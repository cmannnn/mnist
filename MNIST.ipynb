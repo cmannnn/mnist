{
  "nbformat": 4,
  "nbformat_minor": 0,
  "metadata": {
    "colab": {
      "name": "MNIST.ipynb",
      "provenance": [],
      "authorship_tag": "ABX9TyM3QBdvWMHOIvMDKkZbdb+d",
      "include_colab_link": true
    },
    "kernelspec": {
      "name": "python3",
      "display_name": "Python 3"
    }
  },
  "cells": [
    {
      "cell_type": "markdown",
      "metadata": {
        "id": "view-in-github",
        "colab_type": "text"
      },
      "source": [
        "<a href=\"https://colab.research.google.com/github/cmannnn/mnist/blob/main/MNIST.ipynb\" target=\"_parent\"><img src=\"https://colab.research.google.com/assets/colab-badge.svg\" alt=\"Open In Colab\"/></a>"
      ]
    },
    {
      "cell_type": "markdown",
      "metadata": {
        "id": "9T1qE98VlGZs"
      },
      "source": [
        "# MNIST classification training"
      ]
    },
    {
      "cell_type": "code",
      "metadata": {
        "id": "qvsZwNsVa5Eb"
      },
      "source": [
        "#imports\n",
        "import matplotlib as mpl\n",
        "import matplotlib.pyplot as plt\n",
        "\n",
        "import pandas as pd\n",
        "\n",
        "import numpy as np\n",
        "\n",
        "from sklearn.linear_model import SGDClassifier\n",
        "from sklearn.model_selection import cross_val_score\n",
        "from sklearn.metrics import confusion_matrix"
      ],
      "execution_count": 28,
      "outputs": []
    },
    {
      "cell_type": "markdown",
      "metadata": {
        "id": "Wx7jJaSBmXa8"
      },
      "source": [
        "Reading data"
      ]
    },
    {
      "cell_type": "code",
      "metadata": {
        "id": "5QmZn8K0bu8u"
      },
      "source": [
        "# reading in MNIST datasets\n",
        "mnist_train = pd.read_csv('sample_data/mnist_train_small.csv')\n",
        "mnist_test = pd.read_csv('sample_data/mnist_test.csv')"
      ],
      "execution_count": 2,
      "outputs": []
    },
    {
      "cell_type": "code",
      "metadata": {
        "id": "obCSMWtBb8pH",
        "colab": {
          "base_uri": "https://localhost:8080/"
        },
        "outputId": "751d7fe1-572a-4a80-9722-0c1154a9616b"
      },
      "source": [
        "# checking training data shape\n",
        "mnist_train.shape"
      ],
      "execution_count": 3,
      "outputs": [
        {
          "output_type": "execute_result",
          "data": {
            "text/plain": [
              "(19999, 785)"
            ]
          },
          "metadata": {
            "tags": []
          },
          "execution_count": 3
        }
      ]
    },
    {
      "cell_type": "code",
      "metadata": {
        "colab": {
          "base_uri": "https://localhost:8080/"
        },
        "id": "irdpsSUNcf-9",
        "outputId": "eea5379d-ed27-4aae-ff8e-1be88e4e7a29"
      },
      "source": [
        "# checking testing data shape\n",
        "mnist_test.shape"
      ],
      "execution_count": 4,
      "outputs": [
        {
          "output_type": "execute_result",
          "data": {
            "text/plain": [
              "(9999, 785)"
            ]
          },
          "metadata": {
            "tags": []
          },
          "execution_count": 4
        }
      ]
    },
    {
      "cell_type": "markdown",
      "metadata": {
        "id": "TCe8cED7mcYj"
      },
      "source": [
        "# Splitting train data"
      ]
    },
    {
      "cell_type": "code",
      "metadata": {
        "id": "wk-QxI4vjGr5"
      },
      "source": [
        "# splitting train data into features and targets\n",
        "mnist_train_y = mnist_train['6']\n",
        "mnist_train_X = mnist_train.drop(['6'], axis=1)"
      ],
      "execution_count": 5,
      "outputs": []
    },
    {
      "cell_type": "code",
      "metadata": {
        "colab": {
          "base_uri": "https://localhost:8080/"
        },
        "id": "QtDOCeV9fpFp",
        "outputId": "90c33ccc-9bf3-42a3-cacb-bfcd0cd33fce"
      },
      "source": [
        "# checking train y shape\n",
        "mnist_train_y.shape"
      ],
      "execution_count": 6,
      "outputs": [
        {
          "output_type": "execute_result",
          "data": {
            "text/plain": [
              "(19999,)"
            ]
          },
          "metadata": {
            "tags": []
          },
          "execution_count": 6
        }
      ]
    },
    {
      "cell_type": "code",
      "metadata": {
        "colab": {
          "base_uri": "https://localhost:8080/"
        },
        "id": "1Dve-e7VkXlZ",
        "outputId": "719dda0d-44e5-4da5-d949-1c008de812a2"
      },
      "source": [
        "# checking train X shape\n",
        "mnist_train_X.shape"
      ],
      "execution_count": 7,
      "outputs": [
        {
          "output_type": "execute_result",
          "data": {
            "text/plain": [
              "(19999, 784)"
            ]
          },
          "metadata": {
            "tags": []
          },
          "execution_count": 7
        }
      ]
    },
    {
      "cell_type": "markdown",
      "metadata": {
        "id": "d40jJYPbmk5x"
      },
      "source": [
        "# Splitting test data"
      ]
    },
    {
      "cell_type": "code",
      "metadata": {
        "id": "Wi5EjKR8l29f"
      },
      "source": [
        "# splitting test data into features and targets\n",
        "mnist_test_y = mnist_test['7']\n",
        "mnist_test_X = mnist_test.drop(['7'], axis=1)"
      ],
      "execution_count": 8,
      "outputs": []
    },
    {
      "cell_type": "code",
      "metadata": {
        "colab": {
          "base_uri": "https://localhost:8080/"
        },
        "id": "etpk887ymsMx",
        "outputId": "a5f4d3b2-f38f-497d-9737-c9ccee4044bf"
      },
      "source": [
        "# checking test y shape\n",
        "mnist_test_y.shape"
      ],
      "execution_count": 9,
      "outputs": [
        {
          "output_type": "execute_result",
          "data": {
            "text/plain": [
              "(9999,)"
            ]
          },
          "metadata": {
            "tags": []
          },
          "execution_count": 9
        }
      ]
    },
    {
      "cell_type": "code",
      "metadata": {
        "colab": {
          "base_uri": "https://localhost:8080/"
        },
        "id": "hXHblQp3msZm",
        "outputId": "d763e30a-d427-4cb4-ebd5-55816ab56bec"
      },
      "source": [
        "# checking test X shape\n",
        "mnist_test_X.shape"
      ],
      "execution_count": 10,
      "outputs": [
        {
          "output_type": "execute_result",
          "data": {
            "text/plain": [
              "(9999, 784)"
            ]
          },
          "metadata": {
            "tags": []
          },
          "execution_count": 10
        }
      ]
    },
    {
      "cell_type": "code",
      "metadata": {
        "colab": {
          "base_uri": "https://localhost:8080/",
          "height": 248
        },
        "id": "0ewdzzgfe5h1",
        "outputId": "80fa0808-42bf-4ce1-d64a-543c6f0e875f"
      },
      "source": [
        "# displaying the image\n",
        "some_digit = np.array(mnist_train_X[:1])\n",
        "some_digit_image = some_digit.reshape(28, 28)\n",
        "\n",
        "plt.imshow(some_digit_image, cmap=mpl.cm.binary, interpolation='nearest')\n",
        "plt.axis('off')\n",
        "plt.show()"
      ],
      "execution_count": 11,
      "outputs": [
        {
          "output_type": "display_data",
          "data": {
            "image/png": "[encoded data removed]",
            "text/plain": [
              "<Figure size 432x288 with 1 Axes>"
            ]
          },
          "metadata": {
            "tags": [],
            "needs_background": "light"
          }
        }
      ]
    },
    {
      "cell_type": "code",
      "metadata": {
        "colab": {
          "base_uri": "https://localhost:8080/"
        },
        "id": "3dkJBAg3eWmP",
        "outputId": "b1677c4d-505c-4d18-ff00-8782a28b950f"
      },
      "source": [
        "# checking target value\n",
        "mnist_train_y[0]"
      ],
      "execution_count": 12,
      "outputs": [
        {
          "output_type": "execute_result",
          "data": {
            "text/plain": [
              "5"
            ]
          },
          "metadata": {
            "tags": []
          },
          "execution_count": 12
        }
      ]
    },
    {
      "cell_type": "markdown",
      "metadata": {
        "id": "xTq11XrSMvi1"
      },
      "source": [
        "# Training a binary classifier"
      ]
    },
    {
      "cell_type": "code",
      "metadata": {
        "id": "NqGUDMiGNclb"
      },
      "source": [
        "# creating binary data set for a '#5 ditector' as binary classifer test\n",
        "mnist_y_train_5 = (mnist_train_y == 5)\n",
        "mnist_y_test_5 = (mnist_test_y ==5)"
      ],
      "execution_count": 15,
      "outputs": []
    },
    {
      "cell_type": "code",
      "metadata": {
        "id": "PVZSS08PQGsM"
      },
      "source": [
        "mnist_y_train_5"
      ],
      "execution_count": null,
      "outputs": []
    },
    {
      "cell_type": "code",
      "metadata": {
        "id": "mj9Ixed9QLrO"
      },
      "source": [
        "mnist_y_test_5"
      ],
      "execution_count": null,
      "outputs": []
    },
    {
      "cell_type": "code",
      "metadata": {
        "colab": {
          "base_uri": "https://localhost:8080/"
        },
        "id": "sNW-57xlMzmy",
        "outputId": "b58554bf-5451-4cd9-9c01-f570ccffe22d"
      },
      "source": [
        "# Stochastic Gradient Discent\n",
        "sgd_clf = SGDClassifier(random_state=42)\n",
        "sgd_clf.fit(mnist_train_X, mnist_y_train_5)"
      ],
      "execution_count": 17,
      "outputs": [
        {
          "output_type": "execute_result",
          "data": {
            "text/plain": [
              "SGDClassifier(alpha=0.0001, average=False, class_weight=None,\n",
              "              early_stopping=False, epsilon=0.1, eta0=0.0, fit_intercept=True,\n",
              "              l1_ratio=0.15, learning_rate='optimal', loss='hinge',\n",
              "              max_iter=1000, n_iter_no_change=5, n_jobs=None, penalty='l2',\n",
              "              power_t=0.5, random_state=42, shuffle=True, tol=0.001,\n",
              "              validation_fraction=0.1, verbose=0, warm_start=False)"
            ]
          },
          "metadata": {
            "tags": []
          },
          "execution_count": 17
        }
      ]
    },
    {
      "cell_type": "code",
      "metadata": {
        "colab": {
          "base_uri": "https://localhost:8080/"
        },
        "id": "Mlc5IBZ9ONJn",
        "outputId": "946cc71f-d4b4-4b80-a8cc-d8634efc1058"
      },
      "source": [
        "# predicting if data == 5\n",
        "sgd_clf.predict(some_digit)"
      ],
      "execution_count": 25,
      "outputs": [
        {
          "output_type": "execute_result",
          "data": {
            "text/plain": [
              "array([ True])"
            ]
          },
          "metadata": {
            "tags": []
          },
          "execution_count": 25
        }
      ]
    },
    {
      "cell_type": "markdown",
      "metadata": {
        "id": "geompx7YRnzA"
      },
      "source": [
        "# Measuring score with cross-validation folds"
      ]
    },
    {
      "cell_type": "code",
      "metadata": {
        "colab": {
          "base_uri": "https://localhost:8080/"
        },
        "id": "SS5ZN8X5OlNq",
        "outputId": "d91c34b2-7ee6-4bc9-bd94-cb8400caf47e"
      },
      "source": [
        "# initiating cross folds\n",
        "cross_val_score(sgd_clf, mnist_train_X, mnist_y_train_5, cv=3, scoring='accuracy')"
      ],
      "execution_count": 27,
      "outputs": [
        {
          "output_type": "execute_result",
          "data": {
            "text/plain": [
              "array([0.96130193, 0.95829583, 0.96144614])"
            ]
          },
          "metadata": {
            "tags": []
          },
          "execution_count": 27
        }
      ]
    },
    {
      "cell_type": "code",
      "metadata": {
        "id": "pMcQpH2ASJax"
      },
      "source": [
        ""
      ],
      "execution_count": null,
      "outputs": []
    }
  ]
}